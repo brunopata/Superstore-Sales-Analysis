{
 "cells": [
  {
   "cell_type": "markdown",
   "id": "6c7ab24e-850a-4803-ba9a-d07595380ce5",
   "metadata": {},
   "source": [
    "# 🛒 Superstore Sales Data Cleaning & Prep"
   ]
  },
  {
   "cell_type": "markdown",
   "id": "89c8d037-fc3f-4114-a98b-5e951c76c626",
   "metadata": {},
   "source": [
    "##### This notebook performs data cleaning and feature creation on the Superstore dataset before visualizing it in Power BI.\n",
    "##### The dataset contains 9800+ rows of sales transactions from a global office supplies retailer, including fields for region, category, sub-category, dates, sales, profit, discount and customer info.\n",
    "##### Data used was taken from the [Superstore Sales Dataset](https://www.kaggle.com/datasets/rohitsahoo/sales-forecasting)"
   ]
  },
  {
   "cell_type": "markdown",
   "id": "71aa1c09-84b2-42fe-92e5-1dd670a2d887",
   "metadata": {},
   "source": [
    "### 📌 Key Steps:"
   ]
  },
  {
   "cell_type": "markdown",
   "id": "0e15b39b-487a-4c96-abe6-4efe4738f2e3",
   "metadata": {},
   "source": [
    "   - Converted date fields\n",
    "   - Added profit margin and time-based features\n",
    "   - Removed unused columns\n",
    "   - Exported cleaned CSV for dashboarding"
   ]
  },
  {
   "cell_type": "markdown",
   "id": "6310ff4f-1dd8-4067-8e91-63550d7069d3",
   "metadata": {},
   "source": [
    "## 📩 1. Import Libraries & Load Data"
   ]
  },
  {
   "cell_type": "code",
   "execution_count": null,
   "id": "1aa3282d-e4f5-49c3-8ee5-fea2c03881ad",
   "metadata": {},
   "outputs": [],
   "source": [
    "import pandas as pd\n",
    "\n",
    "# Load the dataset\n",
    "df = pd.read_csv(\"superstore_raw.csv\")\n",
    "\n",
    "# Quick preview\n",
    "df.head()\n",
    "df.describe()"
   ]
  },
  {
   "cell_type": "markdown",
   "id": "de7cbd81-7e86-40a5-9381-23be79543da5",
   "metadata": {},
   "source": [
    "## 🧹 2. Clean & Convert Data"
   ]
  },
  {
   "cell_type": "code",
   "execution_count": null,
   "id": "fe6ace09-0940-4802-b2bb-34ec0328c179",
   "metadata": {},
   "outputs": [],
   "source": [
    "# Convert date columns to datetime\n",
    "df[\"Order Date\"] = pd.to_datetime(df[\"Order Date\"], dayfirst=False)\n",
    "df[\"Ship Date\"] = pd.to_datetime(df[\"Ship Date\"], dayfirst=False)\n",
    "\n",
    "# Drop unused columns\n",
    "df = df.drop(columns=[\"Row ID\", \"Postal Code\", \"Country\"])\n",
    "\n",
    "# Check for missing values\n",
    "df.isna().sum()"
   ]
  },
  {
   "cell_type": "markdown",
   "id": "aed77fa3-843f-4710-9938-a5297cd2be30",
   "metadata": {},
   "source": [
    "## 🔧 3. Feature Engineering"
   ]
  },
  {
   "cell_type": "code",
   "execution_count": null,
   "id": "8920f16a-52fe-4061-92cb-81e41da80edf",
   "metadata": {},
   "outputs": [],
   "source": [
    "# Add Order Month & Year\n",
    "df[\"Order Year\"] = df[\"Order Date\"].dt.year\n",
    "df[\"Order Month\"] = df[\"Order Date\"].dt.to_period(\"M\").astype(str)\n",
    "\n",
    "# Add Profit Margin\n",
    "df[\"Profit Margin\"] = df[\"Sales\"].where(df[\"Sales\"] != 0, 1)\n",
    "df[\"Profit Margin\"] = df[\"Profit\"] / df[\"Profit Margin\"]\n",
    "\n",
    "# Clean column names\n",
    "df.columns = df.columns.str.replace(\" \", \"_\")"
   ]
  },
  {
   "cell_type": "markdown",
   "id": "0f2f52cf-446d-4c3b-99f5-cfe134eff834",
   "metadata": {},
   "source": [
    "## 🔍 4. Save Cleaned Data for Power BI"
   ]
  },
  {
   "cell_type": "code",
   "execution_count": null,
   "id": "33cace10-85d3-4e3b-9972-075691272aa4",
   "metadata": {},
   "outputs": [],
   "source": [
    "df.to_csv(\"superstore_cleaned.csv\", index=False)\n",
    "print(\"✅ Cleaned dataset saved.\")"
   ]
  }
 ],
 "metadata": {
  "kernelspec": {
   "display_name": "Python 3 (ipykernel)",
   "language": "python",
   "name": "python3"
  },
  "language_info": {
   "codemirror_mode": {
    "name": "ipython",
    "version": 3
   },
   "file_extension": ".py",
   "mimetype": "text/x-python",
   "name": "python",
   "nbconvert_exporter": "python",
   "pygments_lexer": "ipython3",
   "version": "3.12.3"
  }
 },
 "nbformat": 4,
 "nbformat_minor": 5
}
